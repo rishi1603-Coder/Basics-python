{
  "nbformat": 4,
  "nbformat_minor": 0,
  "metadata": {
    "colab": {
      "provenance": []
    },
    "kernelspec": {
      "name": "python3",
      "display_name": "Python 3"
    },
    "language_info": {
      "name": "python"
    }
  },
  "cells": [
    {
      "cell_type": "code",
      "execution_count": null,
      "metadata": {
        "id": "Va2sHOMQApM3"
      },
      "outputs": [],
      "source": []
    },
    {
      "cell_type": "markdown",
      "source": [
        "#Basic python questions"
      ],
      "metadata": {
        "id": "iBr8_ol9Arda"
      }
    },
    {
      "cell_type": "markdown",
      "source": [
        "Q1.What is Python, and why is it popular?\n",
        "       \n",
        "-An open-source, object-oriented,high-level programming language its simplicity and reddability and Python code is executed line by line by an interpreter, eliminating the need for a separate compilation step\n",
        "  -Python is one of the most popular programming languages in the world today\n",
        " why:\n",
        " 1.Simple & Easy to Learn\n",
        " 2.free and open source\n",
        " 3.Career Opportunities\n",
        " 4.Large Community\n",
        " 5.Rapid Development"
      ],
      "metadata": {
        "id": "X0qY-EmWA4BT"
      }
    },
    {
      "cell_type": "markdown",
      "source": [
        "What is an interpreter in Python?\n",
        "  \n",
        "-interpreter is a program that directly executes code written in the Python programming language. It reads the source code line by line, translates it into an intermediate form called bytecode"
      ],
      "metadata": {
        "id": "yZiVyGfHDtIA"
      }
    },
    {
      "cell_type": "markdown",
      "source": [
        "Q3.What are pre-defined keywords in Python?\n",
        "\n",
        "-Predefined keywords in Python are reserved words are used to define the syntax and structure of the Python language hey cannot be used as identifiers e.g. variable names, function names\n",
        "\n",
        "  else   ,    import,     pass,  \n",
        "None  ,     break  ,    except   ,  in   ,      raise  \n",
        "True   ,    class   ,   finally  ,  is    ,     return  \n",
        "and     ,   continue ,  for      , lambda  ,   try  \n",
        "as       ,  def       , from   ,    ,nonlocal,   while  \n",
        "assert    , del        ,global,     ,not     ,   with  \n",
        "async      ,elif       ,if  ,or       ,  yield  \n"
      ],
      "metadata": {
        "id": "MO4LjvY2E_6r"
      }
    },
    {
      "cell_type": "markdown",
      "source": [
        "Q4.Can keywords be used as variable names?\n",
        "\n",
        "-No, keywords cannot be used as variable names.\n",
        "Because keywords are reserved words"
      ],
      "metadata": {
        "id": "PPaJgiV2GhqA"
      }
    },
    {
      "cell_type": "markdown",
      "source": [
        "Q5.What is mutability in Python?\n",
        "\n",
        "-. mutability refers to whether an object's state.\n",
        "ex>list,dist ,set.\n"
      ],
      "metadata": {
        "id": "qJEAEKHaG7VZ"
      }
    },
    {
      "cell_type": "markdown",
      "source": [
        "Q6.Why are lists mutable, but tuples are immutable?\n",
        "\n",
        "-once the elements are added to the tuple and the tuple has been created; it remains unchanged.\n",
        "\n",
        " Why are lists mutable?\n",
        "Think of a list like a notebook with a pencil.\n",
        "\n",
        "You can erase and rewrite — change, add, or remove things anytime."
      ],
      "metadata": {
        "id": "9_PdRGSYHtci"
      }
    },
    {
      "cell_type": "markdown",
      "source": [
        "Q7.What is the difference between “==” and “is” operators in Python?\n",
        "\n",
        "-The == operator checks whether the values of two objects are equal.It checks if the content or state of the objects is the same. For example, if you have two lists with the same elements in the same order,\n",
        "\n",
        "-The is operator checks whether two references point to the same object in memory.\n",
        "It returns True only if both variables refer to the exact same object (i.e., same memory address).\n"
      ],
      "metadata": {
        "id": "Ho7G0hzkIXA1"
      }
    },
    {
      "cell_type": "markdown",
      "source": [
        "Q8.What are logical operators in Python?\n",
        "\n",
        "-logical operators in Python are used to combine conditional statements and evaluate the truth or falsity of expressions.(usually True or False) and return a single boolean result."
      ],
      "metadata": {
        "id": "CI32oFA7JKF7"
      }
    },
    {
      "cell_type": "markdown",
      "source": [
        "Q9.What is type casting in Python?\n",
        "\n",
        "-Type casting in Python is the process of converting a value from one data type to another like from a string to an integer, or from a float to a string."
      ],
      "metadata": {
        "id": "7DOTl11uJjf3"
      }
    },
    {
      "cell_type": "markdown",
      "source": [
        "Q10.What is the difference between implicit and explicit type casting?\n",
        "\n",
        "-Implicit Type Casting:\n",
        "Implicit type casting is done automatically by the Python interpreter when it needs to convert one data type to another during an operation.\n",
        "Automatic Conversion: The system automatically handles the conversion without any intervention from the programmer.\n",
        "Widening Conversion: Typically involves converting a smaller data type to a larger data type (e.g., int to float, char to int).\n",
        "No Loss of Information: Generally, implicit casting avoids loss of precision or data.\n",
        "\n",
        "-Explicit Type Casting:\n",
        "Explicit type casting is when the programmer manually converts a variable from one type to another using built-in functions like int(), float(), or str()."
      ],
      "metadata": {
        "id": "XtuO624dLW-d"
      }
    },
    {
      "cell_type": "markdown",
      "source": [
        "Q11.What is the purpose of conditional statements in Python\n",
        "\n",
        "-Python is to make decisions in your program based on certain conditions.These statements enable decision-making within the code, allowing different blocks of instructions to be executed depending on the evaluation of a specific condition.\n",
        "\n"
      ],
      "metadata": {
        "id": "u1KaYh3hMTin"
      }
    },
    {
      "cell_type": "markdown",
      "source": [
        "Q12.How does the elif statement work?\n",
        "\n",
        "-The elif statement, a contraction of \"else if,\" is a conditional control flow statement used in programming languages like Python to handle multiple conditions sequentially.nce a True condition is found, the remaining conditions are skipped.\n",
        "\n"
      ],
      "metadata": {
        "id": "PjmdbOxVM4Oe"
      }
    },
    {
      "cell_type": "markdown",
      "source": [
        "Q13. What is the difference between for and while loops\n",
        "\n",
        "-The primary difference between for and while loops lies in their intended use cases and how they control the loop's execution. For loops are generally used when you know the number of iterations beforehand, while while loops are more suitable when the number of iterations is uncertain and depends on a condition being met"
      ],
      "metadata": {
        "id": "3YG_MLURNK-_"
      }
    },
    {
      "cell_type": "markdown",
      "source": [
        "Q14.Describe a scenario where a while loop is more suitable than a for loop.\n",
        "\n",
        "-A while loop is more suitable than a for loop when the number of iterations is unknown or depends on a dynamic condition that changes during the loop's execution."
      ],
      "metadata": {
        "id": "DiESNrzRNc71"
      }
    },
    {
      "cell_type": "markdown",
      "source": [],
      "metadata": {
        "id": "GaMGANKTmhOe"
      }
    },
    {
      "cell_type": "markdown",
      "source": [
        "# **Practical** Questions"
      ],
      "metadata": {
        "id": "WjAu8KeSmhZ7"
      }
    },
    {
      "cell_type": "markdown",
      "source": [
        "Q1.Write a Python program to print \"Hello, World!\"\n",
        "\n"
      ],
      "metadata": {
        "id": "SN0RqL8Gmuh3"
      }
    },
    {
      "cell_type": "code",
      "source": [
        "print(\"hello, world!\")\n"
      ],
      "metadata": {
        "colab": {
          "base_uri": "https://localhost:8080/"
        },
        "id": "XX18ta3rm5Lw",
        "outputId": "3bdeaa24-5747-47f5-8718-ed966663729d"
      },
      "execution_count": 5,
      "outputs": [
        {
          "output_type": "stream",
          "name": "stdout",
          "text": [
            "hello, world!\n"
          ]
        }
      ]
    },
    {
      "cell_type": "markdown",
      "source": [
        "Q2.Write a Python program that displays your name and age\n"
      ],
      "metadata": {
        "id": "vxF2G_hTnmof"
      }
    },
    {
      "cell_type": "code",
      "source": [
        "name=\"rushi\"\n",
        "age=21\n",
        "print(\"my name is\", name)\n",
        "print(\"i am\", age ,\"year old\")"
      ],
      "metadata": {
        "colab": {
          "base_uri": "https://localhost:8080/"
        },
        "id": "tJNtf_VmnsgE",
        "outputId": "ad3402ce-2f96-4b69-9342-b5f3d4689854"
      },
      "execution_count": 11,
      "outputs": [
        {
          "output_type": "stream",
          "name": "stdout",
          "text": [
            "my name is rushi\n",
            "i am 21 year old\n"
          ]
        }
      ]
    },
    {
      "cell_type": "markdown",
      "source": [
        "Q3.Write code to print all the pre-defined keywords in Python using the keyword library"
      ],
      "metadata": {
        "id": "eZO-JyVVoeKD"
      }
    },
    {
      "cell_type": "code",
      "source": [
        "import keyword\n",
        "\n",
        "print(keyword.kwlist)\n"
      ],
      "metadata": {
        "colab": {
          "base_uri": "https://localhost:8080/"
        },
        "id": "0L0kbG4soyBI",
        "outputId": "531c86f5-1442-49bc-8e85-03c0b5bd5e29"
      },
      "execution_count": 12,
      "outputs": [
        {
          "output_type": "stream",
          "name": "stdout",
          "text": [
            "['False', 'None', 'True', 'and', 'as', 'assert', 'async', 'await', 'break', 'class', 'continue', 'def', 'del', 'elif', 'else', 'except', 'finally', 'for', 'from', 'global', 'if', 'import', 'in', 'is', 'lambda', 'nonlocal', 'not', 'or', 'pass', 'raise', 'return', 'try', 'while', 'with', 'yield']\n"
          ]
        }
      ]
    },
    {
      "cell_type": "markdown",
      "source": [
        "Q4.Write a program that checks if a given word is a Python keyword.\n"
      ],
      "metadata": {
        "id": "mGGxV5uLo66H"
      }
    },
    {
      "cell_type": "code",
      "source": [
        "import keyword\n",
        "\n",
        "print(keyword.iskeyword(input(\"Enter word: \")))\n"
      ],
      "metadata": {
        "colab": {
          "base_uri": "https://localhost:8080/"
        },
        "id": "VkEWPNyKpA4e",
        "outputId": "879f4012-732e-45d6-e129-ada7559206c8"
      },
      "execution_count": 25,
      "outputs": [
        {
          "output_type": "stream",
          "name": "stdout",
          "text": [
            "Enter word: if\n",
            "True\n"
          ]
        }
      ]
    },
    {
      "cell_type": "markdown",
      "source": [],
      "metadata": {
        "id": "_BmQKQ_vpXqz"
      }
    },
    {
      "cell_type": "markdown",
      "source": [
        "Q5.Create a list and tuple in Python, and demonstrate how attempting to change an element works differently\n",
        "for each.\n"
      ],
      "metadata": {
        "id": "WBKDwJ54p_XT"
      }
    },
    {
      "cell_type": "code",
      "source": [
        "\n",
        "my_list = [1, 2, 3]\n",
        "my_list[0] = 10\n",
        "print(\"List:\", my_list)\n",
        "my_tuple = (1, 2, 3)\n",
        "print(\"Tuple:\", my_tuple)\n"
      ],
      "metadata": {
        "colab": {
          "base_uri": "https://localhost:8080/"
        },
        "id": "nC8-Fa89qSvO",
        "outputId": "fe82f5f0-396d-4624-a5cd-d95017c866ad"
      },
      "execution_count": 26,
      "outputs": [
        {
          "output_type": "stream",
          "name": "stdout",
          "text": [
            "List: [10, 2, 3]\n",
            "Tuple: (1, 2, 3)\n"
          ]
        }
      ]
    },
    {
      "cell_type": "markdown",
      "source": [
        "Q6.Write a function to demonstrate the behavior of mutable and immutable arguments\n"
      ],
      "metadata": {
        "id": "iFVZp86creTp"
      }
    },
    {
      "cell_type": "code",
      "source": [
        "def change(a, b):\n",
        "    a = a + 5\n",
        "    b.append(9)\n",
        "    print(\"Inside:\", a, b)\n",
        "\n",
        "x = 10\n",
        "y = [1, 2, 3]\n",
        "\n",
        "change(x, y)\n",
        "\n",
        "print(\"Outside:\", x, y)\n"
      ],
      "metadata": {
        "colab": {
          "base_uri": "https://localhost:8080/"
        },
        "id": "BmdvQcs9sK8D",
        "outputId": "4aa7bdc9-07d8-40bd-aa78-82fb00e8066e"
      },
      "execution_count": 30,
      "outputs": [
        {
          "output_type": "stream",
          "name": "stdout",
          "text": [
            "Inside: 15 [1, 2, 3, 9]\n",
            "Outside: 10 [1, 2, 3, 9]\n"
          ]
        }
      ]
    },
    {
      "cell_type": "markdown",
      "source": [
        "Q7.Write a program that performs basic arithmetic operations on two user-input numbers.\n"
      ],
      "metadata": {
        "id": "isvAcLSBs40i"
      }
    },
    {
      "cell_type": "code",
      "source": [
        "a = int(input(\"Enter 1st: \"))\n",
        "b = int(input(\"Enter 2nd: \"))\n",
        "\n",
        "print(\"Add:\", a + b)\n",
        "print(\"Sub:\", a - b)\n",
        "print(\"Mul:\", a * b)\n",
        "print(\"Div:\", a / b)\n"
      ],
      "metadata": {
        "colab": {
          "base_uri": "https://localhost:8080/"
        },
        "id": "RBLRZ_sRtZzJ",
        "outputId": "81df8f28-2450-465b-cb12-fc7ea63943a9"
      },
      "execution_count": 31,
      "outputs": [
        {
          "output_type": "stream",
          "name": "stdout",
          "text": [
            "Enter 1st: 5\n",
            "Enter 2nd: 5\n",
            "Add: 10\n",
            "Sub: 0\n",
            "Mul: 25\n",
            "Div: 1.0\n"
          ]
        }
      ]
    },
    {
      "cell_type": "code",
      "source": [
        "Q8.Write a program to demonstrate the use of logical operators.\n"
      ],
      "metadata": {
        "id": "KTQqXZRMtdnv"
      },
      "execution_count": null,
      "outputs": []
    },
    {
      "cell_type": "code",
      "source": [
        "\n",
        "a = 10\n",
        "b = 5\n",
        "c = 8\n",
        "print(\"a == c and b < a:\", a == c and b < a)\n",
        "\n",
        "print(\"a < b or b == 5:\", a < b or b == 5)\n",
        "\n",
        "print(\"not(a == b):\", not(a == b))\n"
      ],
      "metadata": {
        "colab": {
          "base_uri": "https://localhost:8080/"
        },
        "id": "5FPxvahQtn8R",
        "outputId": "6c3d23cb-05a0-4cee-858e-8278ef87acf2"
      },
      "execution_count": 33,
      "outputs": [
        {
          "output_type": "stream",
          "name": "stdout",
          "text": [
            "a == c and b < a: False\n",
            "a < b or b == 5: True\n",
            "not(a == b): True\n"
          ]
        }
      ]
    },
    {
      "cell_type": "markdown",
      "source": [
        "Q9.Write a Python program to convert user input from string to integer, float, and boolean types.\n"
      ],
      "metadata": {
        "id": "gml0WamhuD4h"
      }
    },
    {
      "cell_type": "code",
      "source": [
        "s = input(\"Enter a value: \")\n",
        "i = int(s)\n",
        "f = float(s)\n",
        "b = bool(s)\n",
        "\n",
        "print(\"As Integer:\", i)\n",
        "print(\"As Float:\", f)\n",
        "print(\"As Boolean:\", b)\n"
      ],
      "metadata": {
        "colab": {
          "base_uri": "https://localhost:8080/"
        },
        "id": "-LJ-OW3GusVJ",
        "outputId": "b21a0f9d-3b4d-4c71-e522-35760334a055"
      },
      "execution_count": 34,
      "outputs": [
        {
          "output_type": "stream",
          "name": "stdout",
          "text": [
            "Enter a value: 5\n",
            "As Integer: 5\n",
            "As Float: 5.0\n",
            "As Boolean: True\n"
          ]
        }
      ]
    },
    {
      "cell_type": "markdown",
      "source": [
        "Q10.Write code to demonstrate type casting with list elements.\n"
      ],
      "metadata": {
        "id": "cdJWzl39u1SP"
      }
    },
    {
      "cell_type": "code",
      "source": [
        "\n",
        "str_list = ['10', '20', '0', '']\n",
        "int_list = [int(x) for x in str_list if x.isdigit()]\n",
        "print(\"As Integers:\", int_list)\n",
        "float_list = [float(x) for x in str_list if x.replace('.', '', 1).isdigit()]\n",
        "print(\"As Floats:\", float_list)\n",
        "bool_list = [bool(x) for x in str_list]\n",
        "print(\"As Booleans:\", bool_list)\n"
      ],
      "metadata": {
        "colab": {
          "base_uri": "https://localhost:8080/"
        },
        "id": "5-cD2xe1u58D",
        "outputId": "d5b96fff-9e31-48bf-9b5c-c0e943e1eafb"
      },
      "execution_count": 35,
      "outputs": [
        {
          "output_type": "stream",
          "name": "stdout",
          "text": [
            "As Integers: [10, 20, 0]\n",
            "As Floats: [10.0, 20.0, 0.0]\n",
            "As Booleans: [True, True, True, False]\n"
          ]
        }
      ]
    },
    {
      "cell_type": "markdown",
      "source": [
        "Q11. Write a program that checks if a number is positive, negative, or zero."
      ],
      "metadata": {
        "id": "--WM9gkGvTuN"
      }
    },
    {
      "cell_type": "code",
      "source": [
        "n = int(input(\"Enter a number: \"))\n",
        "\n",
        "if n > 0:\n",
        "    print(\"Positive\")\n",
        "elif n < 0:\n",
        "    print(\"Negative\")\n",
        "else:\n",
        "    print(\"Zero\")\n"
      ],
      "metadata": {
        "colab": {
          "base_uri": "https://localhost:8080/"
        },
        "id": "-rTwZchyvWTM",
        "outputId": "0c0f9a22-6c39-4415-da41-1e2a2518c384"
      },
      "execution_count": 36,
      "outputs": [
        {
          "output_type": "stream",
          "name": "stdout",
          "text": [
            "Enter a number: 5\n",
            "Positive\n"
          ]
        }
      ]
    },
    {
      "cell_type": "markdown",
      "source": [
        "Q12. Write a for loop to print numbers from 1 to 10.\n"
      ],
      "metadata": {
        "id": "kkc3N-v6vaH-"
      }
    },
    {
      "cell_type": "code",
      "source": [
        "\n",
        "for i in range(1, 11):\n",
        "    print(i)\n",
        "\n"
      ],
      "metadata": {
        "colab": {
          "base_uri": "https://localhost:8080/"
        },
        "id": "kWAREitSvlnl",
        "outputId": "a2a006cc-23f0-4884-9b81-2a7bb61eebb6"
      },
      "execution_count": 37,
      "outputs": [
        {
          "output_type": "stream",
          "name": "stdout",
          "text": [
            "1\n",
            "2\n",
            "3\n",
            "4\n",
            "5\n",
            "6\n",
            "7\n",
            "8\n",
            "9\n",
            "10\n"
          ]
        }
      ]
    },
    {
      "cell_type": "markdown",
      "source": [
        "Q13. Write a Python program to find the sum of all even numbers between 1 and 50.\n"
      ],
      "metadata": {
        "id": "FtAEhDcdvl_L"
      }
    },
    {
      "cell_type": "code",
      "source": [
        "total = 0\n",
        "for i in range(2, 51, 2):\n",
        "    total += i\n",
        "print(\"Sum of even numbers:\", total)\n"
      ],
      "metadata": {
        "colab": {
          "base_uri": "https://localhost:8080/"
        },
        "id": "TxggQ2kuvxvT",
        "outputId": "5bedc61c-7454-4787-d792-0c01c16d037c"
      },
      "execution_count": 38,
      "outputs": [
        {
          "output_type": "stream",
          "name": "stdout",
          "text": [
            "Sum of even numbers: 650\n"
          ]
        }
      ]
    },
    {
      "cell_type": "markdown",
      "source": [
        "Q14. Write a program to reverse a string using a while loop.\n",
        "\n"
      ],
      "metadata": {
        "id": "GjYjhFrVv4P7"
      }
    },
    {
      "cell_type": "code",
      "source": [
        "s = input(\"Enter a string: \")\n",
        "rev = \"\"\n",
        "i = len(s) - 1\n",
        "\n",
        "while i >= 0:\n",
        "    rev += s[i]\n",
        "    i -= 1\n",
        "\n",
        "print(\"Reversed string:\", rev)"
      ],
      "metadata": {
        "colab": {
          "base_uri": "https://localhost:8080/"
        },
        "id": "j53g9nmpv_lk",
        "outputId": "f594b4f8-ee8c-4e5b-c4c3-b6355f230682"
      },
      "execution_count": 40,
      "outputs": [
        {
          "output_type": "stream",
          "name": "stdout",
          "text": [
            "Enter a string: rushi\n",
            "Reversed string: ihsur\n"
          ]
        }
      ]
    },
    {
      "cell_type": "markdown",
      "source": [
        "Q15. Write a Python program to calculate the factorial of a number provided by the user using a while loop."
      ],
      "metadata": {
        "id": "vqQ83uuTwMMF"
      }
    },
    {
      "cell_type": "code",
      "source": [
        "n = int(input(\"Enter a number: \"))\n",
        "fact = 1\n",
        "\n",
        "while n > 0:\n",
        "    fact *= n\n",
        "    n -= 1\n",
        "\n",
        "print(\"Factorial:\", fact)\n"
      ],
      "metadata": {
        "colab": {
          "base_uri": "https://localhost:8080/"
        },
        "id": "cYw-SbQtwO9b",
        "outputId": "a974e1bc-1ae9-45c3-cd4e-a18c392dc31c"
      },
      "execution_count": 42,
      "outputs": [
        {
          "output_type": "stream",
          "name": "stdout",
          "text": [
            "Enter a number: 5\n",
            "Factorial: 120\n"
          ]
        }
      ]
    }
  ]
}